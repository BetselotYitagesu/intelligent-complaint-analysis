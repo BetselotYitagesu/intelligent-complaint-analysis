{
 "cells": [
  {
   "cell_type": "markdown",
   "id": "c72745c0",
   "metadata": {},
   "source": [
    "# Task 4: Interactive Chat Interface\n",
    "This notebook builds a simple interactive chat interface to query the complaint analysis RAG pipeline."
   ]
  },
  {
   "cell_type": "code",
   "execution_count": 2,
   "id": "c6480713",
   "metadata": {},
   "outputs": [],
   "source": [
    "import sys\n",
    "import os\n",
    "\n",
    "# Adjust the path to point to your project root\n",
    "sys.path.append(os.path.abspath(\"..\"))  # if notebook is in notebooks/, one level below root"
   ]
  },
  {
   "cell_type": "code",
   "execution_count": 3,
   "id": "99448629",
   "metadata": {},
   "outputs": [
    {
     "name": "stdout",
     "output_type": "stream",
     "text": [
      "* Running on local URL:  http://127.0.0.1:7860\n",
      "* To create a public link, set `share=True` in `launch()`.\n"
     ]
    },
    {
     "data": {
      "text/html": [
       "<div><iframe src=\"http://127.0.0.1:7860/\" width=\"100%\" height=\"500\" allow=\"autoplay; camera; microphone; clipboard-read; clipboard-write;\" frameborder=\"0\" allowfullscreen></iframe></div>"
      ],
      "text/plain": [
       "<IPython.core.display.HTML object>"
      ]
     },
     "metadata": {},
     "output_type": "display_data"
    },
    {
     "data": {
      "text/plain": []
     },
     "execution_count": 3,
     "metadata": {},
     "output_type": "execute_result"
    },
    {
     "name": "stdout",
     "output_type": "stream",
     "text": [
      "Retrieved chunks: [{'content': 'years i simply think they should pay for their misdealings thankyou for considering this complaint', 'metadata': {'product': 'Money transfers', 'complaint_id': 12948768}, 'chunk_id': np.int64(337)}, {'content': 'and file formal complaints with the relevant consumer protection authorities xxxx xxxx', 'metadata': {'product': 'Credit card', 'complaint_id': 13831290}, 'chunk_id': np.int64(1743)}, {'content': 'problems are happening behind the scenes and no these issues arent related to scheduled maintenance those are perfectly acceptable', 'metadata': {'product': 'Savings account', 'complaint_id': 13465978}, 'chunk_id': np.int64(1262)}, {'content': 'formal complaint regarding ongoing issues with account access and customer service to whom it may concern i am writing to formally express my frustration and dissatisfaction regarding the ongoing issues i have encountered with my bank account and the lack of resolution or effective communication from both branch staff and support teams i initially opened my account over a month ago when i visited the branch to obtain my debit card and make my initial deposit i was informed that my social', 'metadata': {'product': 'Savings account', 'complaint_id': 13406106}, 'chunk_id': np.int64(1367)}, {'content': 'but all you did was say that you dont oversee complaints about business accounts why not just be honest and state that you cant be bothered have you ever thought of standing up and doing the right thing what happens now the complaint process is complete and your complaint is now closed we have taken the following additional actions on your complaint we added your complaint to the xxxx xxxx complaint database your feedback and feedback from others helps us understand how companies are addressing', 'metadata': {'product': 'Savings account', 'complaint_id': 13970077}, 'chunk_id': np.int64(1872)}]\n",
      "First item keys: dict_keys(['content', 'metadata', 'chunk_id'])\n",
      "Retrieved chunks: [{'content': 'excellent credit i am being selected against and having a punitive interest rate of 2924 without cause or any credit misstep on my part the purpose of maintaining an excellent credit score is to garner a favorable interest rate on money loaned it demonstrates your responsibility and creditworthiness what is the point of maintaining an excellent credit score if a creditor can arbitrarily increase your interest rate to the maximum legal limit', 'metadata': {'product': 'Credit card', 'complaint_id': 13818223}, 'chunk_id': np.int64(982)}, {'content': 'my credit report to reflect my true risk and behavior which is the goal of fair and accurate reporting under federal law xxxx xxxx xxxx xxxx xxxx xxxx xxxx xxxx xxxx xxxx xxxx xxxx xxxx xxxx xxxx xxxx xxxx xxxx xxxx xxxx xxxx xxxx xxxx xxxx xxxx xxxx xxxx xxxx xxxx xxxx xxxx xxxx', 'metadata': {'product': 'Credit card', 'complaint_id': 14066271}, 'chunk_id': np.int64(319)}, {'content': 'stop all attempts to collect it and remove any negative information you may have reported to credit bureaus', 'metadata': {'product': 'Credit card', 'complaint_id': 13654351}, 'chunk_id': np.int64(69)}, {'content': 'i opened a capital one quicksilver credit card on xxxxxxxx with a 100000 limit a few months later around xxxx xxxx i was approved for a capital one walmart card with a 200000 limit over the next 4 years and 6 months i maintained a very good to excellent credit score never missed a payment and consistently used both cards responsibly in all that time capital one only increased my total credit limit by a measly xxxx shockingly low and frankly insulting gesture in comparison my xxxx xxxx xxxx card', 'metadata': {'product': 'Credit card', 'complaint_id': 12959982}, 'chunk_id': np.int64(227)}, {'content': 'are now outdated and do not reflect my current financial situation which is stable and improving i am working hard to rebuild my credit and maintain strong financial habits the continued presence of these negative marks is preventing me from accessing credit opportunities despite the fact that ive demonstrated longterm responsible behavior since under the fair credit reporting act fcra specifically 15 usc 1681e b and 15 usc 1681i i believe this reporting is unfair and disproportionate while the', 'metadata': {'product': 'Credit card', 'complaint_id': 14066271}, 'chunk_id': np.int64(317)}]\n",
      "First item keys: dict_keys(['content', 'metadata', 'chunk_id'])\n",
      "Retrieved chunks: [{'content': 'of income and residency and thats it the loans goes over the gross 25 limit as stated above as well', 'metadata': {'product': 'Personal loan', 'complaint_id': 13949860}, 'chunk_id': np.int64(34)}, {'content': 'i was offered a personal loan through creditninja for 80000 i was told my total repayment would be around 84000 however after approval i was informed i would need to make xxxx payments of 4200 totaling over 160000 more than double the amount i borrowed this was not disclosed clearly up front i only found out after receiving the final repayment terms i used my personal savings to pay it off in full just to avoid longterm damage to my finances but i feel i was misled and taken advantage of i am', 'metadata': {'product': 'Personal loan', 'complaint_id': 13944945}, 'chunk_id': np.int64(671)}, {'content': 'may result in financial harm to other consumers who are unaware of these hidden requirements', 'metadata': {'product': 'Credit card', 'complaint_id': 13747558}, 'chunk_id': np.int64(1445)}, {'content': 'my financial face not only are all my creditors charging me 24 28 interest even if ive been with them 10 or more years but doing stuff like this too tsk tsk what is this world coming to', 'metadata': {'product': 'Credit card', 'complaint_id': 13909733}, 'chunk_id': np.int64(1996)}, {'content': 'i was unaware of or misconstrued ive suffered enough regret and dismay i have been dooped by another bad acting loan option and im not giving them another dime i know that there are other people out there in the same boat and need your help ending this without injuring my credit score any further than it is how can you help me xxxx xxxx xxxx', 'metadata': {'product': 'Personal loan', 'complaint_id': 13699607}, 'chunk_id': np.int64(1178)}]\n",
      "First item keys: dict_keys(['content', 'metadata', 'chunk_id'])\n",
      "Retrieved chunks: [{'content': 'the benefits that they advertised specifically to me', 'metadata': {'product': 'Credit card', 'complaint_id': 12207099}, 'chunk_id': np.int64(1850)}, {'content': 'anxiety and stress why give me a good reason why xxxx tell me that theres a weird activity on that transaction followed the xxxx xxxx that required online check deposits why put a hold on my account without not telling me xxxx am also missed days of working also because of this issue tomorrow xxxx might go back to the bank if i can not go through online banking missing a day of work again log in for today past xxxx hours xxxx same thing xxxx xxxx xxxx went to citibank they said no reason why', 'metadata': {'product': 'Savings account', 'complaint_id': 13954175}, 'chunk_id': np.int64(571)}, {'content': 'every effort to pay on time using xxxx designated platform', 'metadata': {'product': 'Credit card', 'complaint_id': 13924766}, 'chunk_id': np.int64(815)}, {'content': 'is absurdity i am limited income so this kind of stuff hits me hard when it happens obviously they do not care', 'metadata': {'product': 'Credit card', 'complaint_id': 14013098}, 'chunk_id': np.int64(455)}, {'content': 'app and redownloaded yes i have done that many times and i have automatic updates on its not a me issue theres tons of people complaining online about the same issues people saying they have to leave ally bank because of this im in the same situation i cant have an online bank where the online part isnt working its clearly an issue with their data connections on the back end and makes me wonder if they cant figure out the basics then what other problems are happening behind the scenes and no', 'metadata': {'product': 'Savings account', 'complaint_id': 13465978}, 'chunk_id': np.int64(1261)}]\n",
      "First item keys: dict_keys(['content', 'metadata', 'chunk_id'])\n",
      "Retrieved chunks: [{'content': 'the benefits that they advertised specifically to me', 'metadata': {'product': 'Credit card', 'complaint_id': 12207099}, 'chunk_id': np.int64(1850)}, {'content': 'balance so it can be used or xxxx provide a full refund of 40000', 'metadata': {'product': 'Money transfers', 'complaint_id': 13952917}, 'chunk_id': np.int64(1036)}, {'content': 'which is causing problems for me im appealing to see if theres anything that can be done thank you', 'metadata': {'product': 'Savings account', 'complaint_id': 13747432}, 'chunk_id': np.int64(1447)}, {'content': 'helps us understand how companies are addressing concerns raised by consumers in their complaints we will also share your feedback with the company we have also shared your complaint with the federal trade commission which will add your complaint to its database for state and federal law enforcement agencies we appreciate your participation in the complaint process and your feedback on the companys response both are important to us and consumers who may have similar issues and concerns', 'metadata': {'product': 'Savings account', 'complaint_id': 13970077}, 'chunk_id': np.int64(1873)}, {'content': 'confirm my claim this means no progress has been made from truists side to help resolve the issue the lack of followup communication and urgency from truist is extremely unprofessional and unacceptable ive been more than patient', 'metadata': {'product': 'Savings account', 'complaint_id': 13044139}, 'chunk_id': np.int64(220)}]\n",
      "First item keys: dict_keys(['content', 'metadata', 'chunk_id'])\n"
     ]
    }
   ],
   "source": [
    "import gradio as gr\n",
    "from src.rag.rag_pipeline import RAGPipeline\n",
    "\n",
    "# Initialize RAG pipeline\n",
    "rag = RAGPipeline(k=5)\n",
    "\n",
    "def chat(query):\n",
    "    output = rag.answer(query)\n",
    "    answer = output[\"answer\"]\n",
    "    sources = \"\\n\\nSources:\\n\" + \"\\n\".join([f\"- {src[:300]}...\" for src in output[\"sources\"][:3]])\n",
    "    return answer + sources\n",
    "\n",
    "iface = gr.Interface(fn=chat,\n",
    "                     inputs=\"text\",\n",
    "                     outputs=\"text\",\n",
    "                     title=\"CrediTrust Complaint Analysis Chatbot\",\n",
    "                     description=\"Ask questions about customer complaints and get insightful answers.\")\n",
    "\n",
    "iface.launch()\n"
   ]
  }
 ],
 "metadata": {
  "kernelspec": {
   "display_name": ".venv",
   "language": "python",
   "name": "python3"
  },
  "language_info": {
   "codemirror_mode": {
    "name": "ipython",
    "version": 3
   },
   "file_extension": ".py",
   "mimetype": "text/x-python",
   "name": "python",
   "nbconvert_exporter": "python",
   "pygments_lexer": "ipython3",
   "version": "3.13.3"
  }
 },
 "nbformat": 4,
 "nbformat_minor": 5
}
