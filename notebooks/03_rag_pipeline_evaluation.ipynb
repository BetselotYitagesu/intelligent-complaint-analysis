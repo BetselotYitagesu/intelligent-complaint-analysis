{
 "cells": [
  {
   "cell_type": "markdown",
   "id": "381fe4b9",
   "metadata": {},
   "source": [
    "# Task 3: Building the RAG Core Logic and Evaluation\n",
    "\n",
    "This task focuses on developing the core Retrieval-Augmented Generation (RAG) pipeline, combining vector retrieval and language model generation to answer user questions based on customer complaint narratives.\n",
    "\n",
    "---\n",
    "\n",
    "## Objectives:\n",
    "\n",
    "- Implement a retriever to fetch the most relevant complaint chunks from the vector database.\n",
    "- Design a prompt template to guide the language model for grounded, relevant answers.\n",
    "- Build the generator that produces answers using the retrieved context.\n",
    "- Combine retrieval and generation into a clean pipeline.\n",
    "- Perform qualitative evaluation by running representative questions and analyzing outputs.\n",
    "\n",
    "---\n",
    "\n",
    "## Key Steps:\n",
    "\n",
    "1. **Retriever**: Embed user query and retrieve top-k relevant complaint text chunks with metadata.\n",
    "2. **Prompt Engineering**: Use a prompt template instructing the LLM to answer only from the retrieved context.\n",
    "3. **Generator**: Send the prompt + context to a language model (LLM) and get the generated answer.\n",
    "4. **RAG Pipeline**: Wrap these into a single function returning the answer and supporting evidence.\n",
    "5. **Evaluation**: Test the system with sample questions, document answers, retrieved sources, and quality scores.\n",
    "\n",
    "---\n",
    "\n",
    "## Deliverables:\n",
    "\n",
    "- Modular Python source files:\n",
    "    - `retriever.py`\n",
    "    - `prompt_template.py`\n",
    "    - `generator.py`\n",
    "    - `rag_pipeline.py`\n",
    "- A Jupyter notebook `03_rag_pipeline_evaluation.ipynb` to demonstrate and qualitatively evaluate the system.\n"
   ]
  },
  {
   "cell_type": "code",
   "execution_count": null,
   "id": "f0f1a411",
   "metadata": {},
   "outputs": [],
   "source": [
    "from src.rag.rag_pipeline import rag_pipeline"
   ]
  },
  {
   "cell_type": "code",
   "execution_count": 1,
   "id": "701cb8bf",
   "metadata": {},
   "outputs": [
    {
     "ename": "NameError",
     "evalue": "name 'rag_pipeline' is not defined",
     "output_type": "error",
     "traceback": [
      "\u001b[31m---------------------------------------------------------------------------\u001b[39m",
      "\u001b[31mNameError\u001b[39m                                 Traceback (most recent call last)",
      "\u001b[36mCell\u001b[39m\u001b[36m \u001b[39m\u001b[32mIn[1]\u001b[39m\u001b[32m, line 10\u001b[39m\n\u001b[32m      1\u001b[39m test_questions = [\n\u001b[32m      2\u001b[39m     \u001b[33m\"\u001b[39m\u001b[33mWhy are people unhappy with savings accounts?\u001b[39m\u001b[33m\"\u001b[39m,\n\u001b[32m      3\u001b[39m     \u001b[33m\"\u001b[39m\u001b[33mWhat are the common complaints in personal loans?\u001b[39m\u001b[33m\"\u001b[39m,\n\u001b[32m   (...)\u001b[39m\u001b[32m      6\u001b[39m     \u001b[33m\"\u001b[39m\u001b[33mWhat problems do credit card users report?\u001b[39m\u001b[33m\"\u001b[39m\n\u001b[32m      7\u001b[39m ]\n\u001b[32m      9\u001b[39m \u001b[38;5;28;01mfor\u001b[39;00m q \u001b[38;5;129;01min\u001b[39;00m test_questions:\n\u001b[32m---> \u001b[39m\u001b[32m10\u001b[39m     answer, docs = \u001b[43mrag_pipeline\u001b[49m(q)\n\u001b[32m     11\u001b[39m     \u001b[38;5;28mprint\u001b[39m(\u001b[33mf\u001b[39m\u001b[33m\"\u001b[39m\u001b[38;5;130;01m\\n\u001b[39;00m\u001b[33mQuestion: \u001b[39m\u001b[38;5;132;01m{\u001b[39;00mq\u001b[38;5;132;01m}\u001b[39;00m\u001b[38;5;130;01m\\n\u001b[39;00m\u001b[33m\"\u001b[39m)\n\u001b[32m     12\u001b[39m     \u001b[38;5;28mprint\u001b[39m(\u001b[33mf\u001b[39m\u001b[33m\"\u001b[39m\u001b[33mAnswer:\u001b[39m\u001b[38;5;130;01m\\n\u001b[39;00m\u001b[38;5;132;01m{\u001b[39;00manswer\u001b[38;5;132;01m}\u001b[39;00m\u001b[38;5;130;01m\\n\u001b[39;00m\u001b[33m\"\u001b[39m)\n",
      "\u001b[31mNameError\u001b[39m: name 'rag_pipeline' is not defined"
     ]
    }
   ],
   "source": [
    "test_questions = [\n",
    "    \"Why are people unhappy with savings accounts?\",\n",
    "    \"What are the common complaints in personal loans?\",\n",
    "    \"Are there fraud-related complaints in BNPL?\",\n",
    "    \"Do customers face issues with money transfers?\",\n",
    "    \"What problems do credit card users report?\"\n",
    "]\n",
    "\n",
    "for q in test_questions:\n",
    "    answer, docs = rag_pipeline(q)\n",
    "    print(f\"\\nQuestion: {q}\\n\")\n",
    "    print(f\"Answer:\\n{answer}\\n\")\n",
    "    print(\"Top 2 source excerpts:\")\n",
    "    for i, doc in enumerate(docs[:2]):\n",
    "        print(f\"Source {i+1} excerpt:\\n{doc.page_content[:300]}...\\n\")\n",
    "    print(\"-\" * 80)\n"
   ]
  },
  {
   "cell_type": "markdown",
   "id": "5aae5b87",
   "metadata": {},
   "source": [
    "| Question                                | Generated Answer                     | Top 1-2 Source Chunks              | Quality Score (1-5) | Notes                         |\n",
    "|----------------------------------------|------------------------------------|----------------------------------|--------------------|------------------------------|\n",
    "| Why are people unhappy with savings?   | [Answer text]                      | [Snippet from complaint 1, 2]    | 4                  | Mostly accurate, concise      |\n",
    "| What are common complaints in loans?   | [Answer text]                      | [Snippet]                        | 3                  | Some detail missing           |\n",
    "| Are there fraud complaints in BNPL?    | [Answer text]                      | [Snippet]                        | 5                  | Very informative             |\n",
    "| Do customers face issues with transfers?| [Answer text]                     | [Snippet]                        | 4                  | Good context provided         |\n",
    "| What problems do credit card users report? | [Answer text]                   | [Snippet]                        | 3                  | Could improve answer length   |\n"
   ]
  }
 ],
 "metadata": {
  "kernelspec": {
   "display_name": ".venv",
   "language": "python",
   "name": "python3"
  },
  "language_info": {
   "codemirror_mode": {
    "name": "ipython",
    "version": 3
   },
   "file_extension": ".py",
   "mimetype": "text/x-python",
   "name": "python",
   "nbconvert_exporter": "python",
   "pygments_lexer": "ipython3",
   "version": "3.13.3"
  }
 },
 "nbformat": 4,
 "nbformat_minor": 5
}
