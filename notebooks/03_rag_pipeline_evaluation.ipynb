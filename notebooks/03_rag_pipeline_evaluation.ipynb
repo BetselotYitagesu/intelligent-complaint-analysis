{
 "cells": [
  {
   "cell_type": "markdown",
   "id": "381fe4b9",
   "metadata": {},
   "source": [
    "# Task 3: Building the RAG Core Logic and Evaluation\n",
    "\n",
    "This task focuses on developing the core Retrieval-Augmented Generation (RAG) pipeline, combining vector retrieval and language model generation to answer user questions based on customer complaint narratives.\n",
    "\n",
    "---\n",
    "\n",
    "## Objectives:\n",
    "\n",
    "- Implement a retriever to fetch the most relevant complaint chunks from the vector database.\n",
    "- Design a prompt template to guide the language model for grounded, relevant answers.\n",
    "- Build the generator that produces answers using the retrieved context.\n",
    "- Combine retrieval and generation into a clean pipeline.\n",
    "- Perform qualitative evaluation by running representative questions and analyzing outputs.\n",
    "\n",
    "---\n",
    "\n",
    "## Key Steps:\n",
    "\n",
    "1. **Retriever**: Embed user query and retrieve top-k relevant complaint text chunks with metadata.\n",
    "2. **Prompt Engineering**: Use a prompt template instructing the LLM to answer only from the retrieved context.\n",
    "3. **Generator**: Send the prompt + context to a language model (LLM) and get the generated answer.\n",
    "4. **RAG Pipeline**: Wrap these into a single function returning the answer and supporting evidence.\n",
    "5. **Evaluation**: Test the system with sample questions, document answers, retrieved sources, and quality scores.\n",
    "\n",
    "---\n",
    "\n",
    "## Deliverables:\n",
    "\n",
    "- Modular Python source files:\n",
    "    - `retriever.py`\n",
    "    - `prompt_template.py`\n",
    "    - `generator.py`\n",
    "    - `rag_pipeline.py`\n",
    "- A Jupyter notebook `03_rag_pipeline_evaluation.ipynb` to demonstrate and qualitatively evaluate the system.\n"
   ]
  },
  {
   "cell_type": "code",
   "execution_count": 1,
   "id": "b7509666",
   "metadata": {},
   "outputs": [],
   "source": [
    "import sys\n",
    "import os\n",
    "\n",
    "# Adjust the path to point to your project root\n",
    "sys.path.append(os.path.abspath(\"..\"))  # if notebook is in notebooks/, one level below root\n"
   ]
  },
  {
   "cell_type": "code",
   "execution_count": 2,
   "id": "75f16e59",
   "metadata": {},
   "outputs": [
    {
     "name": "stdout",
     "output_type": "stream",
     "text": [
      "Retrieved chunks: [{'content': 'and file formal complaints with the relevant consumer protection authorities xxxx xxxx', 'metadata': {'product': 'Credit card', 'complaint_id': 13831290}, 'chunk_id': np.int64(1743)}, {'content': 'helps us understand how companies are addressing concerns raised by consumers in their complaints we will also share your feedback with the company we have also shared your complaint with the federal trade commission which will add your complaint to its database for state and federal law enforcement agencies we appreciate your participation in the complaint process and your feedback on the companys response both are important to us and consumers who may have similar issues and concerns', 'metadata': {'product': 'Savings account', 'complaint_id': 13970077}, 'chunk_id': np.int64(1873)}, {'content': 'their practices that seem to disregard consumer rights and timely communication thank you for your attention to this matter i look forward to your response and any assistance you may provide in resolving this issue', 'metadata': {'product': 'Credit card', 'complaint_id': 12206743}, 'chunk_id': np.int64(188)}, {'content': 'with their mission and consumer protection responsibilities', 'metadata': {'product': 'Savings account', 'complaint_id': 13953898}, 'chunk_id': np.int64(566)}, {'content': 'i just had the worst experience ever with their customer service this was my first time using the travel reward miles after having the xxxx card for several years their capital one xxxx website listed the amount i owed for the hotel i booked as 3600 and charged me 13000 i spent 1 hour and 44 minutes on the phone with them just trying to find out why i was overcharged and to get a refund i was transferred 5 times the first rep said he couldnt do anything about it i asked for a supervisor who', 'metadata': {'product': 'Credit card', 'complaint_id': 12629540}, 'chunk_id': np.int64(53)}]\n",
      "First item keys: dict_keys(['content', 'metadata', 'chunk_id'])\n",
      "complaints about BNPL\n"
     ]
    }
   ],
   "source": [
    "from src.rag.rag_pipeline import RAGPipeline\n",
    "\n",
    "rag = RAGPipeline(k=5)\n",
    "\n",
    "output = rag.answer(\"What complaints do customers have about BNPL?\")\n",
    "print(output[\"answer\"])\n"
   ]
  },
  {
   "cell_type": "code",
   "execution_count": 3,
   "id": "4fce7b21",
   "metadata": {},
   "outputs": [],
   "source": [
    "# sample Quesions :\n",
    "\n",
    "sample_questions = [\n",
    "    \"Why are users unhappy with the Buy Now, Pay Later product?\",\n",
    "    \"Are there complaints about credit card billing?\",\n",
    "    \"What issues do customers report with savings accounts?\",\n",
    "    \"What are the top complaints about money transfers?\",\n",
    "    \"Do people have problems with loan repayment?\"\n",
    "]\n"
   ]
  },
  {
   "cell_type": "code",
   "execution_count": 5,
   "id": "582f6fcc",
   "metadata": {},
   "outputs": [
    {
     "name": "stdout",
     "output_type": "stream",
     "text": [
      "Retrieved chunks: [{'content': 'card companies and banks have enormous power and consumers are left with situations like this they should be required to let you know at the point of sale what the problem is', 'metadata': {'product': 'Credit card', 'complaint_id': 13891123}, 'chunk_id': np.int64(260)}, {'content': 'to them the payment was made i explained it was their technology being used mobile app to make payment and asked them to look at that and they were unresponsive basically blowing me off', 'metadata': {'product': 'Credit card', 'complaint_id': 13895842}, 'chunk_id': np.int64(1038)}, {'content': 'at all this is frustrating because i can not see the payments i make i can only make payments as a guest payer and can easily fall behind in payments i believe this is intentional also i can not believe a company as large as this does not have a plan in place to rectify the problem if not they should be held liable for not keeping up their end of the company by upholding their policy of keeping a consume informed of any company technical issues they may be having which i have never been', 'metadata': {'product': 'Credit card', 'complaint_id': 13944464}, 'chunk_id': np.int64(689)}, {'content': 'every time i make and payment theyre lowering my availability totally unfair', 'metadata': {'product': 'Credit card', 'complaint_id': 13723266}, 'chunk_id': np.int64(60)}, {'content': 'me in a billing loop while insisting on a vague explanation you paid late this conduct caused confusion and emotional distress during an already traumatic situation and i believe it was predatory by design', 'metadata': {'product': 'Credit card', 'complaint_id': 13644018}, 'chunk_id': np.int64(1247)}]\n",
      "First item keys: dict_keys(['content', 'metadata', 'chunk_id'])\n",
      "Retrieved chunks: [{'content': 'subject deceptive billing practices improper late fees and potential discriminatory conduct by citibankmacys credit services to whom it may concern i am submitting this complaint to formally request an investigation into citibank na which manages macys credit card accounts for unfair billing practices deceptive fee assessments and potential racial discrimination affecting xxxx xxxx consumers i have maintained two macys credit card accounts managed by citibank for over 20 years and have', 'metadata': {'product': 'Credit card', 'complaint_id': 13684542}, 'chunk_id': np.int64(1513)}, {'content': 'and civil rights laws particularly the equal credit opportunity act ecoa and doddfranks prohibition on unfair deceptive or abusive acts or practices udaaps requested action i request that the consumer financial protection bureau initiate a formal investigation into citibankmacys billing systems and late fee practices examine whether such practices are disproportionately affecting minority consumers determine whether the company is using these billing practices to improperly influence consumer', 'metadata': {'product': 'Credit card', 'complaint_id': 13684542}, 'chunk_id': np.int64(1517)}, {'content': 'my xxxx used my xxxx account to make a xxxx time purchase and used a card that was associated with my xxxx account a card that i rarely use i had no idea that a charge less than xxxx dollars needed to be paid i am a quality customer of wells fargo holding several accounts i do not believe it is fair to punish me with this mark on my credit report because i had no idea my xxxx made this purchase and i always pay my balance in full', 'metadata': {'product': 'Credit card', 'complaint_id': 13732438}, 'chunk_id': np.int64(1523)}, {'content': 'purchased has not been made minimum payment on a credit card to my knowledge always goes down i called them they can not explain why the minimum goes up instead all they can said is pay it in full to avoid that to happen i want to report to you their xxxx activity so that you can take appropriate action against them', 'metadata': {'product': 'Credit card', 'complaint_id': 13842535}, 'chunk_id': np.int64(1334)}, {'content': 'this complaint is about wells fargo bank they charged me a overdraft fee of 3500 which they shouldnt have charged me 3500 if they go look back at my history of my account ive had my account compromise several times and they have to replace my debit card i could not make no deposits i had xxxx in their representative cancel xxxx of my debit cards for no reason i complained about that for all the problems that ive been having why they cant just not charge me 3500 on this item because it didnt give', 'metadata': {'product': 'Savings account', 'complaint_id': 13742952}, 'chunk_id': np.int64(1441)}]\n",
      "First item keys: dict_keys(['content', 'metadata', 'chunk_id'])\n",
      "Retrieved chunks: [{'content': 'formal complaint regarding ongoing issues with account access and customer service to whom it may concern i am writing to formally express my frustration and dissatisfaction regarding the ongoing issues i have encountered with my bank account and the lack of resolution or effective communication from both branch staff and support teams i initially opened my account over a month ago when i visited the branch to obtain my debit card and make my initial deposit i was informed that my social', 'metadata': {'product': 'Savings account', 'complaint_id': 13406106}, 'chunk_id': np.int64(1367)}, {'content': 'bureau in requiring truist bank to immediately release or provide access to my account provide a written explanation of the account freeze improve their handling of such issues', 'metadata': {'product': 'Savings account', 'complaint_id': 13688750}, 'chunk_id': np.int64(1473)}, {'content': 'may result in financial harm to other consumers who are unaware of these hidden requirements', 'metadata': {'product': 'Credit card', 'complaint_id': 13747558}, 'chunk_id': np.int64(1445)}, {'content': 'practices to improperly influence consumer behavior eg forced autopay require the company to provide a full audit of fees assessed and waived on my account over the past 12 months ensure any systemic issues are rectified with proper notice to affected consumers and financial remediation where appropriate i am available to provide documentation including statements screenshots and call records confirming both payment timing and the companys own acknowledgments of error', 'metadata': {'product': 'Credit card', 'complaint_id': 13684542}, 'chunk_id': np.int64(1518)}, {'content': 'i am filing this report to formally state that multiple bank accounts were opened and operated without my knowledge authorization or involvement i did not open maintain manage or close any of the accounts listed in this report these accounts were created using my personal identifying information without my consent i have never received funds from these accounts nor have i had any control over their activity to support this claim i am in the process of filing a police report and submitting', 'metadata': {'product': 'Savings account', 'complaint_id': 14023365}, 'chunk_id': np.int64(1809)}]\n",
      "First item keys: dict_keys(['content', 'metadata', 'chunk_id'])\n",
      "Retrieved chunks: [{'content': 'transfers it is near impossible to get through to someone via phone and what should have been a simple setup of transferring funds has become a nightmare i have had other issues with their customer service in the past and theyre services are horrible', 'metadata': {'product': 'Money transfers', 'complaint_id': 12861101}, 'chunk_id': np.int64(1383)}, {'content': 'often in high or repeating amounts were used to fund cryptocurrency wallets later linked to an international fraud scheme involving platforms such as xxxx xxxx and xxxx despite the welldocumented risks associated with frequent cryptorelated wire transfers us bank failed to take reasonable and expected action there was no sustained fraud alert transaction freeze or escalation to senior review even after some wires were rejected and resubmitted although the bank contacted me at one point to ask', 'metadata': {'product': 'Money transfers', 'complaint_id': 13591620}, 'chunk_id': np.int64(1364)}, {'content': 'dear consumer financial protection bureau i am writing to formally express my complaint against experian regarding their smart money digital checking account i have encountered substantial issues with their account restrictions and customer service which operates entirely offshore in the xxxx resulting in financial detriment and inconvenience on xxxxyear i received a payout of approximately 440000 from my new employment through their relocation assistance program i intended to transfer a portion', 'metadata': {'product': 'Savings account', 'complaint_id': 13957524}, 'chunk_id': np.int64(908)}, {'content': 'xxxxyear xxxx xxxx xxxx m t bank repeated bank deregulations and missing timely pension money xxxx xxxx xxxxxxxx xxxx xxxx xxxx xxxx xxxxxxxx systemic banking misconduct electronic fund transfer act violations 15 usc 1693 et seq disabilitybased financial discrimination criminal conspiracy or fraud involving public institutions or regulated banks please find attached a formal complaint to the consumer financial protection bureau regarding m t banks violations of the electronic fund transfer act', 'metadata': {'product': 'Savings account', 'complaint_id': 12723153}, 'chunk_id': np.int64(864)}, {'content': 'xxxxyear i believe all banks in xxxx should reimburse people who have lost money to scams like xxxx xxxx does people cant hold the burden all alone be the sole person to be liable and responsible for being misled and scammed or identity theft', 'metadata': {'product': 'Savings account', 'complaint_id': 12090479}, 'chunk_id': np.int64(1891)}]\n",
      "First item keys: dict_keys(['content', 'metadata', 'chunk_id'])\n",
      "Retrieved chunks: [{'content': 'i borrowed 100000 from a lender named lendumo in early 2025 around early xxxx i was told i would be repaying monthly and 36000 has been deducted from my account for three months however in xxxxyear when i contacted the lender i was informed that the repayment would continue for 12 months totaling 430000 for a 100000 loan an implied apr of over 330 at the time of borrowing i was never shown or told the full interest rate apr or total cost of repayment no disclosure of terms was made clear or', 'metadata': {'product': 'Personal loan', 'complaint_id': 13831712}, 'chunk_id': np.int64(1744)}, {'content': 'is holding me delinquent after rejecting my payments', 'metadata': {'product': 'Credit card', 'complaint_id': 13721641}, 'chunk_id': np.int64(1609)}, {'content': 'i was offered a personal loan through creditninja for 80000 i was told my total repayment would be around 84000 however after approval i was informed i would need to make xxxx payments of 4200 totaling over 160000 more than double the amount i borrowed this was not disclosed clearly up front i only found out after receiving the final repayment terms i used my personal savings to pay it off in full just to avoid longterm damage to my finances but i feel i was misled and taken advantage of i am', 'metadata': {'product': 'Personal loan', 'complaint_id': 13944945}, 'chunk_id': np.int64(671)}, {'content': 'word explanation when i had requested further explanation of their statement excessive obligations in relation to income on xxxxyear i was ignored i highly suspect foul play as a result regions bank coerced us as the buyer and the sellers to pay off the full amount of the loan rather than have me assume a low rate in relation to todays market', 'metadata': {'product': 'Personal loan', 'complaint_id': 13485428}, 'chunk_id': np.int64(1120)}, {'content': 'i called the phone number on the paperwork to get information on the repayment process as far as monthly payment amounts and where i pay after this initial contact they started calling me and sending me flyers and calling and kept asking did i want to borrow just another xxxx did i need another xxxx xxxx i repeatedly told them no i didnt need any more money thank you and i repeatedly called and i remember the girl telling me that they could probably lower my payments all i had to do was come', 'metadata': {'product': 'Personal loan', 'complaint_id': 13807937}, 'chunk_id': np.int64(1410)}]\n",
      "First item keys: dict_keys(['content', 'metadata', 'chunk_id'])\n"
     ]
    }
   ],
   "source": [
    "# Run the RAG Pipeline on Sample Questions\n",
    "evaluation_results = []\n",
    "\n",
    "for question in sample_questions:\n",
    "    output = rag.answer(question)\n",
    "    \n",
    "    # For clarity, get top 2 source snippets + product names from metadata\n",
    "    retrieved = rag.retriever.retrieve(question, k=2)\n",
    "    \n",
    "    sources_with_meta = [\n",
    "        f\"[{item['metadata']['product']}] {item['content'][:150]}...\"\n",
    "        for item in retrieved\n",
    "    ]\n",
    "    \n",
    "    evaluation_results.append({\n",
    "        \"Question\": question,\n",
    "        \"Answer\": output[\"answer\"],\n",
    "        \"Sources\": sources_with_meta,\n",
    "        \"Score (1-5)\": \"\",  # fill manually after review\n",
    "        \"Comments\": \"\"\n",
    "    })\n"
   ]
  },
  {
   "cell_type": "code",
   "execution_count": 7,
   "id": "43584193",
   "metadata": {},
   "outputs": [
    {
     "name": "stdout",
     "output_type": "stream",
     "text": [
      "                                            Question  \\\n",
      "0  Why are users unhappy with the Buy Now, Pay La...   \n",
      "1    Are there complaints about credit card billing?   \n",
      "2  What issues do customers report with savings a...   \n",
      "3  What are the top complaints about money transf...   \n",
      "4       Do people have problems with loan repayment?   \n",
      "\n",
      "                                              Answer  \\\n",
      "0                              They are unresponsive   \n",
      "1                                                yes   \n",
      "2  account access and customer service to whom it...   \n",
      "3                                              scams   \n",
      "4                                                 no   \n",
      "\n",
      "                                             Sources Score (1-5) Comments  \n",
      "0  [[Credit card] card companies and banks have e...                       \n",
      "1  [[Credit card] subject deceptive billing pract...                       \n",
      "2  [[Savings account] formal complaint regarding ...                       \n",
      "3  [[Money transfers] transfers it is near imposs...                       \n",
      "4  [[Personal loan] i borrowed 100000 from a lend...                       \n"
     ]
    }
   ],
   "source": [
    "import pandas as pd\n",
    "\n",
    "eval_df = pd.DataFrame(evaluation_results)\n",
    "print(eval_df.head())\n",
    "\n",
    "eval_df.to_markdown(\"evaluation_table.md\", index=False)\n"
   ]
  },
  {
   "cell_type": "markdown",
   "id": "7656f313",
   "metadata": {},
   "source": [
    "## Create and Save Evaluation Table\n",
    "\n",
    "We organize the results into a structured table using pandas and export them as a Markdown file for inclusion in the final report. This table helps us analyze the strengths and limitations of the RAG pipeline."
   ]
  },
  {
   "cell_type": "code",
   "execution_count": 8,
   "id": "8a78ee93",
   "metadata": {},
   "outputs": [
    {
     "data": {
      "text/markdown": [
       "| Question                                                   | Answer                                                     | Sources                                                                                                                                                                                                                                                                                                                                                        | Score (1-5)   | Comments   |\n",
       "|:-----------------------------------------------------------|:-----------------------------------------------------------|:---------------------------------------------------------------------------------------------------------------------------------------------------------------------------------------------------------------------------------------------------------------------------------------------------------------------------------------------------------------|:--------------|:-----------|\n",
       "| Why are users unhappy with the Buy Now, Pay Later product? | They are unresponsive                                      | ['[Credit card] card companies and banks have enormous power and consumers are left with situations like this they should be required to let you know at the point of ...', '[Credit card] to them the payment was made i explained it was their technology being used mobile app to make payment and asked them to look at that and they were un...']         |               |            |\n",
       "| Are there complaints about credit card billing?            | yes                                                        | ['[Credit card] subject deceptive billing practices improper late fees and potential discriminatory conduct by citibankmacys credit services to whom it may concern i ...', '[Credit card] and civil rights laws particularly the equal credit opportunity act ecoa and doddfranks prohibition on unfair deceptive or abusive acts or practices u...']         |               |            |\n",
       "| What issues do customers report with savings accounts?     | account access and customer service to whom it may concern | ['[Savings account] formal complaint regarding ongoing issues with account access and customer service to whom it may concern i am writing to formally express my frustrat...', '[Savings account] bureau in requiring truist bank to immediately release or provide access to my account provide a written explanation of the account freeze improve the...'] |               |            |\n",
       "| What are the top complaints about money transfers?         | scams                                                      | ['[Money transfers] transfers it is near impossible to get through to someone via phone and what should have been a simple setup of transferring funds has become a nightm...', '[Money transfers] often in high or repeating amounts were used to fund cryptocurrency wallets later linked to an international fraud scheme involving platforms such as ...'] |               |            |\n",
       "| Do people have problems with loan repayment?               | no                                                         | ['[Personal loan] i borrowed 100000 from a lender named lendumo in early 2025 around early xxxx i was told i would be repaying monthly and 36000 has been deducted from ...', '[Credit card] is holding me delinquent after rejecting my payments...']                                                                                                         |               |            |"
      ],
      "text/plain": [
       "<IPython.core.display.Markdown object>"
      ]
     },
     "metadata": {},
     "output_type": "display_data"
    }
   ],
   "source": [
    "import pandas as pd\n",
    "from IPython.display import Markdown, display\n",
    "\n",
    "eval_df = pd.DataFrame(evaluation_results)\n",
    "\n",
    "# Display nicely formatted markdown table in the notebook\n",
    "display(Markdown(eval_df.to_markdown(index=False)))\n"
   ]
  }
 ],
 "metadata": {
  "kernelspec": {
   "display_name": ".venv",
   "language": "python",
   "name": "python3"
  },
  "language_info": {
   "codemirror_mode": {
    "name": "ipython",
    "version": 3
   },
   "file_extension": ".py",
   "mimetype": "text/x-python",
   "name": "python",
   "nbconvert_exporter": "python",
   "pygments_lexer": "ipython3",
   "version": "3.13.3"
  }
 },
 "nbformat": 4,
 "nbformat_minor": 5
}
