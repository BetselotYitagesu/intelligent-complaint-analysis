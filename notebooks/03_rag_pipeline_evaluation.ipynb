{
 "cells": [
  {
   "cell_type": "markdown",
   "id": "381fe4b9",
   "metadata": {},
   "source": [
    "# Task 3: Building the RAG Core Logic and Evaluation\n",
    "\n",
    "This task focuses on developing the core Retrieval-Augmented Generation (RAG) pipeline, combining vector retrieval and language model generation to answer user questions based on customer complaint narratives.\n",
    "\n",
    "---\n",
    "\n",
    "## Objectives:\n",
    "\n",
    "- Implement a retriever to fetch the most relevant complaint chunks from the vector database.\n",
    "- Design a prompt template to guide the language model for grounded, relevant answers.\n",
    "- Build the generator that produces answers using the retrieved context.\n",
    "- Combine retrieval and generation into a clean pipeline.\n",
    "- Perform qualitative evaluation by running representative questions and analyzing outputs.\n",
    "\n",
    "---\n",
    "\n",
    "## Key Steps:\n",
    "\n",
    "1. **Retriever**: Embed user query and retrieve top-k relevant complaint text chunks with metadata.\n",
    "2. **Prompt Engineering**: Use a prompt template instructing the LLM to answer only from the retrieved context.\n",
    "3. **Generator**: Send the prompt + context to a language model (LLM) and get the generated answer.\n",
    "4. **RAG Pipeline**: Wrap these into a single function returning the answer and supporting evidence.\n",
    "5. **Evaluation**: Test the system with sample questions, document answers, retrieved sources, and quality scores.\n",
    "\n",
    "---\n",
    "\n",
    "## Deliverables:\n",
    "\n",
    "- Modular Python source files:\n",
    "    - `retriever.py`\n",
    "    - `prompt_template.py`\n",
    "    - `generator.py`\n",
    "    - `rag_pipeline.py`\n",
    "- A Jupyter notebook `03_rag_pipeline_evaluation.ipynb` to demonstrate and qualitatively evaluate the system.\n"
   ]
  },
  {
   "cell_type": "code",
   "execution_count": 4,
   "id": "7d799985",
   "metadata": {},
   "outputs": [],
   "source": [
    "# 🔧 Setup\n",
    "from transformers.pipelines import pipeline\n",
    "from langchain.embeddings import HuggingFaceEmbeddings\n",
    "from langchain_community.vectorstores import FAISS\n",
    "from langchain_core.runnables import RunnableLambda, RunnablePassthrough\n",
    "from langchain_core.prompts import PromptTemplate\n",
    "from langchain_core.output_parsers import StrOutputParser\n",
    "from langchain_community.llms import HuggingFacePipeline\n",
    "import torch\n",
    "import os\n",
    "import pickle\n"
   ]
  },
  {
   "cell_type": "code",
   "execution_count": 5,
   "id": "17761ea2",
   "metadata": {},
   "outputs": [],
   "source": [
    "import sys\n",
    "import os\n",
    "\n",
    "# Adjust path to point to your project root (where src/ lives)\n",
    "sys.path.append(os.path.abspath(os.path.join(os.getcwd(), \"..\")))\n"
   ]
  },
  {
   "cell_type": "code",
   "execution_count": null,
   "id": "c31135b2",
   "metadata": {},
   "outputs": [],
   "source": [
    "\n"
   ]
  },
  {
   "cell_type": "code",
   "execution_count": 7,
   "id": "f0f1a411",
   "metadata": {},
   "outputs": [
    {
     "ename": "RuntimeError",
     "evalue": "Error in __cdecl faiss::FileIOReader::FileIOReader(const char *) at D:\\a\\faiss-wheels\\faiss-wheels\\faiss\\faiss\\impl\\io.cpp:68: Error: 'f' failed: could not open e:\\Tenx\\Week 6\\intelligent-complaint-analysis\\notebooks\\vector_store\\index.faiss for reading: No such file or directory",
     "output_type": "error",
     "traceback": [
      "\u001b[31m---------------------------------------------------------------------------\u001b[39m",
      "\u001b[31mRuntimeError\u001b[39m                              Traceback (most recent call last)",
      "\u001b[32m~\\AppData\\Local\\Temp\\ipykernel_11644\\3489940813.py\u001b[39m in \u001b[36m?\u001b[39m\u001b[34m()\u001b[39m\n\u001b[32m----> \u001b[39m\u001b[32m1\u001b[39m \u001b[38;5;28;01mfrom\u001b[39;00m src.rag.rag_pipeline \u001b[38;5;28;01mimport\u001b[39;00m rag_pipeline\n",
      "\u001b[32me:\\Tenx\\Week 6\\intelligent-complaint-analysis\\src\\rag\\rag_pipeline.py\u001b[39m in \u001b[36m?\u001b[39m\u001b[34m()\u001b[39m\n\u001b[32m----> \u001b[39m\u001b[32m1\u001b[39m \u001b[38;5;28;01mfrom\u001b[39;00m src.rag.retriever \u001b[38;5;28;01mimport\u001b[39;00m retrieve_relevant_chunks\n\u001b[32m      2\u001b[39m \u001b[38;5;28;01mfrom\u001b[39;00m src.rag.prompt_template \u001b[38;5;28;01mimport\u001b[39;00m RAG_PROMPT_TEMPLATE\n\u001b[32m      3\u001b[39m \u001b[38;5;28;01mfrom\u001b[39;00m src.rag.generator \u001b[38;5;28;01mimport\u001b[39;00m generate_answer\n\u001b[32m      4\u001b[39m \n",
      "\u001b[32me:\\Tenx\\Week 6\\intelligent-complaint-analysis\\src\\rag\\retriever.py\u001b[39m in \u001b[36m?\u001b[39m\u001b[34m()\u001b[39m\n\u001b[32m      8\u001b[39m \n\u001b[32m      9\u001b[39m \u001b[38;5;66;03m# Get the absolute path to the vector_store directory\u001b[39;00m\n\u001b[32m     10\u001b[39m vector_store_path = os.path.abspath(\u001b[33m\"vector_store/\"\u001b[39m)\n\u001b[32m     11\u001b[39m \n\u001b[32m---> \u001b[39m\u001b[32m12\u001b[39m vector_store = FAISS.load_local(\n\u001b[32m     13\u001b[39m     vector_store_path,\n\u001b[32m     14\u001b[39m     embedding_model,\n\u001b[32m     15\u001b[39m     allow_dangerous_deserialization=\u001b[38;5;28;01mTrue\u001b[39;00m\n",
      "\u001b[32me:\\Tenx\\Week 6\\intelligent-complaint-analysis\\.venv\\Lib\\site-packages\\langchain_community\\vectorstores\\faiss.py\u001b[39m in \u001b[36m?\u001b[39m\u001b[34m(cls, folder_path, embeddings, index_name, allow_dangerous_deserialization, **kwargs)\u001b[39m\n\u001b[32m   1201\u001b[39m             )\n\u001b[32m   1202\u001b[39m         path = Path(folder_path)\n\u001b[32m   1203\u001b[39m         \u001b[38;5;66;03m# load index separately since it is not picklable\u001b[39;00m\n\u001b[32m   1204\u001b[39m         faiss = dependable_faiss_import()\n\u001b[32m-> \u001b[39m\u001b[32m1205\u001b[39m         index = faiss.read_index(str(path / f\"{index_name}.faiss\"))\n\u001b[32m   1206\u001b[39m \n\u001b[32m   1207\u001b[39m         \u001b[38;5;66;03m# load docstore and index_to_docstore_id\u001b[39;00m\n\u001b[32m   1208\u001b[39m         \u001b[38;5;28;01mwith\u001b[39;00m open(path / f\"{index_name}.pkl\", \u001b[33m\"rb\"\u001b[39m) \u001b[38;5;28;01mas\u001b[39;00m f:\n",
      "\u001b[32me:\\Tenx\\Week 6\\intelligent-complaint-analysis\\.venv\\Lib\\site-packages\\faiss\\swigfaiss_avx2.py\u001b[39m in \u001b[36m?\u001b[39m\u001b[34m(*args)\u001b[39m\n\u001b[32m  11140\u001b[39m \u001b[38;5;28;01mdef\u001b[39;00m read_index(*args):\n\u001b[32m> \u001b[39m\u001b[32m11141\u001b[39m     \u001b[38;5;28;01mreturn\u001b[39;00m _swigfaiss_avx2.read_index(*args)\n",
      "\u001b[31mRuntimeError\u001b[39m: Error in __cdecl faiss::FileIOReader::FileIOReader(const char *) at D:\\a\\faiss-wheels\\faiss-wheels\\faiss\\faiss\\impl\\io.cpp:68: Error: 'f' failed: could not open e:\\Tenx\\Week 6\\intelligent-complaint-analysis\\notebooks\\vector_store\\index.faiss for reading: No such file or directory"
     ]
    }
   ],
   "source": [
    "from src.rag.rag_pipeline import rag_pipeline"
   ]
  },
  {
   "cell_type": "code",
   "execution_count": null,
   "id": "02d25a3e",
   "metadata": {},
   "outputs": [],
   "source": []
  },
  {
   "cell_type": "code",
   "execution_count": 1,
   "id": "701cb8bf",
   "metadata": {},
   "outputs": [
    {
     "ename": "NameError",
     "evalue": "name 'rag_pipeline' is not defined",
     "output_type": "error",
     "traceback": [
      "\u001b[31m---------------------------------------------------------------------------\u001b[39m",
      "\u001b[31mNameError\u001b[39m                                 Traceback (most recent call last)",
      "\u001b[36mCell\u001b[39m\u001b[36m \u001b[39m\u001b[32mIn[1]\u001b[39m\u001b[32m, line 10\u001b[39m\n\u001b[32m      1\u001b[39m test_questions = [\n\u001b[32m      2\u001b[39m     \u001b[33m\"\u001b[39m\u001b[33mWhy are people unhappy with savings accounts?\u001b[39m\u001b[33m\"\u001b[39m,\n\u001b[32m      3\u001b[39m     \u001b[33m\"\u001b[39m\u001b[33mWhat are the common complaints in personal loans?\u001b[39m\u001b[33m\"\u001b[39m,\n\u001b[32m   (...)\u001b[39m\u001b[32m      6\u001b[39m     \u001b[33m\"\u001b[39m\u001b[33mWhat problems do credit card users report?\u001b[39m\u001b[33m\"\u001b[39m\n\u001b[32m      7\u001b[39m ]\n\u001b[32m      9\u001b[39m \u001b[38;5;28;01mfor\u001b[39;00m q \u001b[38;5;129;01min\u001b[39;00m test_questions:\n\u001b[32m---> \u001b[39m\u001b[32m10\u001b[39m     answer, docs = \u001b[43mrag_pipeline\u001b[49m(q)\n\u001b[32m     11\u001b[39m     \u001b[38;5;28mprint\u001b[39m(\u001b[33mf\u001b[39m\u001b[33m\"\u001b[39m\u001b[38;5;130;01m\\n\u001b[39;00m\u001b[33mQuestion: \u001b[39m\u001b[38;5;132;01m{\u001b[39;00mq\u001b[38;5;132;01m}\u001b[39;00m\u001b[38;5;130;01m\\n\u001b[39;00m\u001b[33m\"\u001b[39m)\n\u001b[32m     12\u001b[39m     \u001b[38;5;28mprint\u001b[39m(\u001b[33mf\u001b[39m\u001b[33m\"\u001b[39m\u001b[33mAnswer:\u001b[39m\u001b[38;5;130;01m\\n\u001b[39;00m\u001b[38;5;132;01m{\u001b[39;00manswer\u001b[38;5;132;01m}\u001b[39;00m\u001b[38;5;130;01m\\n\u001b[39;00m\u001b[33m\"\u001b[39m)\n",
      "\u001b[31mNameError\u001b[39m: name 'rag_pipeline' is not defined"
     ]
    }
   ],
   "source": [
    "test_questions = [\n",
    "    \"Why are people unhappy with savings accounts?\",\n",
    "    \"What are the common complaints in personal loans?\",\n",
    "    \"Are there fraud-related complaints in BNPL?\",\n",
    "    \"Do customers face issues with money transfers?\",\n",
    "    \"What problems do credit card users report?\"\n",
    "]\n",
    "\n",
    "for q in test_questions:\n",
    "    answer, docs = rag_pipeline(q)\n",
    "    print(f\"\\nQuestion: {q}\\n\")\n",
    "    print(f\"Answer:\\n{answer}\\n\")\n",
    "    print(\"Top 2 source excerpts:\")\n",
    "    for i, doc in enumerate(docs[:2]):\n",
    "        print(f\"Source {i+1} excerpt:\\n{doc.page_content[:300]}...\\n\")\n",
    "    print(\"-\" * 80)\n"
   ]
  },
  {
   "cell_type": "markdown",
   "id": "5aae5b87",
   "metadata": {},
   "source": [
    "| Question                                | Generated Answer                     | Top 1-2 Source Chunks              | Quality Score (1-5) | Notes                         |\n",
    "|----------------------------------------|------------------------------------|----------------------------------|--------------------|------------------------------|\n",
    "| Why are people unhappy with savings?   | [Answer text]                      | [Snippet from complaint 1, 2]    | 4                  | Mostly accurate, concise      |\n",
    "| What are common complaints in loans?   | [Answer text]                      | [Snippet]                        | 3                  | Some detail missing           |\n",
    "| Are there fraud complaints in BNPL?    | [Answer text]                      | [Snippet]                        | 5                  | Very informative             |\n",
    "| Do customers face issues with transfers?| [Answer text]                     | [Snippet]                        | 4                  | Good context provided         |\n",
    "| What problems do credit card users report? | [Answer text]                   | [Snippet]                        | 3                  | Could improve answer length   |\n"
   ]
  }
 ],
 "metadata": {
  "kernelspec": {
   "display_name": ".venv",
   "language": "python",
   "name": "python3"
  },
  "language_info": {
   "codemirror_mode": {
    "name": "ipython",
    "version": 3
   },
   "file_extension": ".py",
   "mimetype": "text/x-python",
   "name": "python",
   "nbconvert_exporter": "python",
   "pygments_lexer": "ipython3",
   "version": "3.13.3"
  }
 },
 "nbformat": 4,
 "nbformat_minor": 5
}
